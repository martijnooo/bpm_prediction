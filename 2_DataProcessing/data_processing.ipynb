{
 "cells": [
  {
   "cell_type": "code",
   "execution_count": 1,
   "id": "aa86ecb4",
   "metadata": {},
   "outputs": [],
   "source": [
    "import pandas as pd\n",
    "import numpy as np\n",
    "from pathlib import Path\n",
    "import seaborn as sns\n",
    "import matplotlib.pyplot as plt\n",
    "import joblib\n",
    "from sklearn.preprocessing import StandardScaler"
   ]
  },
  {
   "cell_type": "code",
   "execution_count": 2,
   "id": "efcd9107",
   "metadata": {},
   "outputs": [],
   "source": [
    "# Current script directory\n",
    "current_dir = Path.cwd()\n",
    "\n",
    "# Path to sibling folder\n",
    "data_file = current_dir.parent / 'data' / 'clean'/ 'train_clean.csv'\n",
    "data_file_no_outlier = current_dir.parent / 'data' / 'clean'/ 'train_no_outlier.csv'"
   ]
  },
  {
   "cell_type": "code",
   "execution_count": 3,
   "id": "f5ab3887",
   "metadata": {},
   "outputs": [],
   "source": [
    "df = pd.read_csv(data_file)\n",
    "df_no_outlier = pd.read_csv(data_file_no_outlier)"
   ]
  },
  {
   "cell_type": "code",
   "execution_count": 4,
   "id": "333930ae",
   "metadata": {},
   "outputs": [],
   "source": [
    "df.drop(df.columns[0], axis=1, inplace=True)"
   ]
  },
  {
   "cell_type": "code",
   "execution_count": 5,
   "id": "c7905eb2",
   "metadata": {},
   "outputs": [],
   "source": [
    "df_no_outlier.drop(columns=\"Unnamed: 0\",axis=1, inplace=True)"
   ]
  },
  {
   "cell_type": "code",
   "execution_count": 6,
   "id": "a0108a28",
   "metadata": {},
   "outputs": [],
   "source": [
    "# Features to scale\n",
    "features = [col for col in df.columns if col not in ['BeatsPerMinute']]\n",
    "\n",
    "# Original dataset\n",
    "X = df[features]\n",
    "y = df['BeatsPerMinute']\n",
    "\n",
    "# Cleaned dataset\n",
    "X_clean = df_no_outlier[features]\n",
    "y_clean = df_no_outlier['BeatsPerMinute']"
   ]
  },
  {
   "cell_type": "code",
   "execution_count": 7,
   "id": "f5ba38c1",
   "metadata": {},
   "outputs": [],
   "source": [
    "scaler = StandardScaler()\n",
    "\n",
    "# Fit and transform original dataset\n",
    "X_scaled = scaler.fit_transform(X)\n",
    "\n",
    "# Fit and transform cleaned dataset separately\n",
    "scaler_clean = StandardScaler()\n",
    "X_clean_scaled = scaler_clean.fit_transform(X_clean)"
   ]
  },
  {
   "cell_type": "code",
   "execution_count": 8,
   "id": "d7ec84fb",
   "metadata": {},
   "outputs": [],
   "source": [
    "X_scaled = pd.DataFrame(X_scaled, columns=features)\n",
    "X_clean_scaled = pd.DataFrame(X_clean_scaled, columns=features)"
   ]
  },
  {
   "cell_type": "code",
   "execution_count": 9,
   "id": "e1f70a29",
   "metadata": {},
   "outputs": [],
   "source": [
    "X_scaled['BeatsPerMinute'] = y\n",
    "X_clean_scaled['BeatsPerMinute'] = y_clean"
   ]
  },
  {
   "cell_type": "code",
   "execution_count": 10,
   "id": "b413e608",
   "metadata": {},
   "outputs": [],
   "source": [
    "# Define processed data folder\n",
    "processed_dir = Path('data') / 'processed'"
   ]
  },
  {
   "cell_type": "code",
   "execution_count": null,
   "id": "9aabdf7f",
   "metadata": {},
   "outputs": [],
   "source": [
    "# dataset saving\n",
    "X_scaled.to_csv(current_dir.parent / processed_dir / 'data_processed.csv')\n",
    "X_clean_scaled.to_csv(current_dir.parent / processed_dir / 'data_clean_processed.csv')"
   ]
  },
  {
   "cell_type": "code",
   "execution_count": null,
   "id": "5d6161ac",
   "metadata": {},
   "outputs": [],
   "source": [
    "# Scaler saving\n",
    "joblib.dump(scaler, current_dir.parent  / processed_dir / 'scaler_original.pkl')\n",
    "joblib.dump(scaler_clean, current_dir.parent / processed_dir / 'scaler_clean.pkl')"
   ]
  }
 ],
 "metadata": {
  "kernelspec": {
   "display_name": "venv (3.12.3)",
   "language": "python",
   "name": "python3"
  },
  "language_info": {
   "codemirror_mode": {
    "name": "ipython",
    "version": 3
   },
   "file_extension": ".py",
   "mimetype": "text/x-python",
   "name": "python",
   "nbconvert_exporter": "python",
   "pygments_lexer": "ipython3",
   "version": "3.12.3"
  }
 },
 "nbformat": 4,
 "nbformat_minor": 5
}

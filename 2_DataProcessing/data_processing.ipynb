{
 "cells": [
  {
   "cell_type": "code",
   "execution_count": 10,
   "id": "aa86ecb4",
   "metadata": {},
   "outputs": [],
   "source": [
    "import pandas as pd\n",
    "import numpy as np\n",
    "from pathlib import Path\n",
    "import seaborn as sns\n",
    "import matplotlib.pyplot as plt\n",
    "import joblib\n",
    "from sklearn.preprocessing import StandardScaler"
   ]
  },
  {
   "cell_type": "code",
   "execution_count": 3,
   "id": "efcd9107",
   "metadata": {},
   "outputs": [],
   "source": [
    "# Current script directory\n",
    "current_dir = Path.cwd()\n",
    "\n",
    "# Path to sibling folder\n",
    "data_file = current_dir.parent / 'data' / 'clean'/ 'train_clean.csv'\n",
    "data_file_no_outlier = current_dir.parent / 'data' / 'clean'/ 'train_no_outlier.csv'"
   ]
  },
  {
   "cell_type": "code",
   "execution_count": 4,
   "id": "f5ab3887",
   "metadata": {},
   "outputs": [],
   "source": [
    "df = pd.read_csv(data_file)\n",
    "df_no_outlier = pd.read_csv(data_file_no_outlier)"
   ]
  },
  {
   "cell_type": "code",
   "execution_count": 6,
   "id": "a0108a28",
   "metadata": {},
   "outputs": [],
   "source": [
    "# Features to scale\n",
    "features = [col for col in df.columns if col not in ['BeatsPerMinute']]\n",
    "\n",
    "# Original dataset\n",
    "X = df[features]\n",
    "y = df['BeatsPerMinute']\n",
    "\n",
    "# Cleaned dataset\n",
    "X_clean = df_no_outlier[features]\n",
    "y_clean = df_no_outlier['BeatsPerMinute']\n"
   ]
  },
  {
   "cell_type": "code",
   "execution_count": 7,
   "id": "f5ba38c1",
   "metadata": {},
   "outputs": [],
   "source": [
    "scaler = StandardScaler()\n",
    "\n",
    "# Fit and transform original dataset\n",
    "X_scaled = scaler.fit_transform(X)\n",
    "\n",
    "# Fit and transform cleaned dataset separately\n",
    "scaler_clean = StandardScaler()\n",
    "X_clean_scaled = scaler_clean.fit_transform(X_clean)\n"
   ]
  },
  {
   "cell_type": "code",
   "execution_count": 13,
   "id": "b413e608",
   "metadata": {},
   "outputs": [],
   "source": [
    "# Define processed data folder\n",
    "processed_dir = Path('data') / 'processed'"
   ]
  },
  {
   "cell_type": "code",
   "execution_count": null,
   "id": "9aabdf7f",
   "metadata": {},
   "outputs": [
    {
     "data": {
      "text/plain": [
       "['c:\\\\Programming\\\\Ironhack\\\\projects\\\\bpm_prediction\\\\data\\\\processed\\\\scaler_original.pkl']"
      ]
     },
     "execution_count": 15,
     "metadata": {},
     "output_type": "execute_result"
    }
   ],
   "source": [
    "# Original dataset saving\n",
    "np.save(current_dir.parent / processed_dir / 'X_scaled.npy', X_scaled)\n",
    "np.save(current_dir.parent / processed_dir / 'y.npy', y)\n",
    "joblib.dump(scaler, current_dir.parent  / processed_dir / 'scaler_original.pkl')"
   ]
  },
  {
   "cell_type": "code",
   "execution_count": 16,
   "id": "5d6161ac",
   "metadata": {},
   "outputs": [
    {
     "data": {
      "text/plain": [
       "['c:\\\\Programming\\\\Ironhack\\\\projects\\\\bpm_prediction\\\\data\\\\processed\\\\scaler_clean.pkl']"
      ]
     },
     "execution_count": 16,
     "metadata": {},
     "output_type": "execute_result"
    }
   ],
   "source": [
    "# Cleaned dataset saving\n",
    "np.save(current_dir.parent / processed_dir / 'X_clean_scaled.npy', X_clean_scaled)\n",
    "np.save(current_dir.parent / processed_dir / 'y_clean.npy', y_clean)\n",
    "joblib.dump(scaler_clean, current_dir.parent / processed_dir / 'scaler_clean.pkl')"
   ]
  }
 ],
 "metadata": {
  "kernelspec": {
   "display_name": "venv (3.12.3)",
   "language": "python",
   "name": "python3"
  },
  "language_info": {
   "codemirror_mode": {
    "name": "ipython",
    "version": 3
   },
   "file_extension": ".py",
   "mimetype": "text/x-python",
   "name": "python",
   "nbconvert_exporter": "python",
   "pygments_lexer": "ipython3",
   "version": "3.12.3"
  }
 },
 "nbformat": 4,
 "nbformat_minor": 5
}

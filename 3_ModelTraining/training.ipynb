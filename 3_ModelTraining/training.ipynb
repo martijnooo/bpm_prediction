{
 "cells": [
  {
   "cell_type": "code",
   "execution_count": null,
   "id": "19b6d007",
   "metadata": {},
   "outputs": [],
   "source": [
    "import pandas as pd\n",
    "import numpy as np\n",
    "from pathlib import Path\n",
    "import seaborn as sns\n",
    "import matplotlib.pyplot as plt\n",
    "import joblib"
   ]
  },
  {
   "cell_type": "code",
   "execution_count": 6,
   "id": "c1a0f0cd",
   "metadata": {},
   "outputs": [],
   "source": [
    "# Define processed data folder\n",
    "processed_dir = Path.cwd().parent / Path('data') / 'processed'"
   ]
  },
  {
   "cell_type": "code",
   "execution_count": 7,
   "id": "bb577d8c",
   "metadata": {},
   "outputs": [],
   "source": [
    "df_clean = pd.read_csv(processed_dir / \"data_clean_processed.csv\")\n",
    "df = pd.read_csv(processed_dir / \"data_processed.csv\")"
   ]
  },
  {
   "cell_type": "code",
   "execution_count": null,
   "id": "e840bdeb",
   "metadata": {},
   "outputs": [],
   "source": [
    "scaler = joblib.load(processed_dir / 'scaler_original.pkl')\n",
    "scaler_clean = joblib.load(processed_dir / 'scaler_clean.pkl')"
   ]
  },
  {
   "cell_type": "code",
   "execution_count": 9,
   "id": "3ed63462",
   "metadata": {},
   "outputs": [],
   "source": [
    "df.drop(columns=\"Unnamed: 0\",axis=1, inplace=True)\n",
    "df_clean.drop(columns=\"Unnamed: 0\",axis=1, inplace=True)"
   ]
  },
  {
   "cell_type": "code",
   "execution_count": 12,
   "id": "bcb70f39",
   "metadata": {},
   "outputs": [],
   "source": [
    "# Features to scale\n",
    "features = [col for col in df.columns if col not in ['BeatsPerMinute']]\n",
    "\n",
    "# Original dataset\n",
    "X = df[features]\n",
    "y = df['BeatsPerMinute']\n",
    "\n",
    "# Cleaned dataset\n",
    "X_clean = df_clean[features]\n",
    "y_clean = df_clean['BeatsPerMinute']"
   ]
  },
  {
   "cell_type": "code",
   "execution_count": 18,
   "id": "cfca5814",
   "metadata": {},
   "outputs": [],
   "source": [
    "from sklearn.ensemble import RandomForestRegressor, GradientBoostingRegressor\n",
    "from sklearn.model_selection import train_test_split"
   ]
  },
  {
   "cell_type": "code",
   "execution_count": 19,
   "id": "3f633cdc",
   "metadata": {},
   "outputs": [],
   "source": [
    "X_train, X_test, y_train, y_test = train_test_split(X,y, random_state=1)"
   ]
  },
  {
   "cell_type": "code",
   "execution_count": 32,
   "id": "d2a7a3bf",
   "metadata": {},
   "outputs": [
    {
     "name": "stdout",
     "output_type": "stream",
     "text": [
      "GradientBoosting - RMSE: 26.51, R2: 0.000\n",
      "RandomForest - RMSE: 26.75, R2: -0.018\n",
      "XGBoost - RMSE: 26.61, R2: -0.007\n"
     ]
    }
   ],
   "source": [
    "from sklearn.pipeline import Pipeline\n",
    "from sklearn.ensemble import RandomForestRegressor, GradientBoostingRegressor\n",
    "from xgboost import XGBRegressor\n",
    "from sklearn.model_selection import train_test_split\n",
    "from sklearn.metrics import mean_squared_error\n",
    "\n",
    "# Dictionary of models to try\n",
    "models = {\n",
    "    'GradientBoosting': GradientBoostingRegressor(random_state=42),\n",
    "    'RandomForest': RandomForestRegressor(random_state=42, n_jobs=-1),\n",
    "    'XGBoost': XGBRegressor(random_state=42, n_jobs=-1, verbosity=1)  # n_jobs=-1 uses all cores\n",
    "}\n",
    "\n",
    "# Evaluate each model\n",
    "results = {}\n",
    "for name, model in models.items():\n",
    "    pipe = Pipeline([('model', model)])\n",
    "    pipe.fit(X_train, y_train)\n",
    "    \n",
    "    y_pred = pipe.predict(X_test)\n",
    "    rmse = np.sqrt(mean_squared_error(y_test, y_pred))\n",
    "    r2 = pipe.score(X_test, y_test)\n",
    "    \n",
    "    results[name] = {'RMSE': rmse, 'R2': r2}\n",
    "\n",
    "# Print results\n",
    "for name, metrics in results.items():\n",
    "    print(f\"{name} - RMSE: {metrics['RMSE']:.2f}, R2: {metrics['R2']:.3f}\")\n"
   ]
  }
 ],
 "metadata": {
  "kernelspec": {
   "display_name": "venv (3.12.3)",
   "language": "python",
   "name": "python3"
  },
  "language_info": {
   "codemirror_mode": {
    "name": "ipython",
    "version": 3
   },
   "file_extension": ".py",
   "mimetype": "text/x-python",
   "name": "python",
   "nbconvert_exporter": "python",
   "pygments_lexer": "ipython3",
   "version": "3.12.3"
  }
 },
 "nbformat": 4,
 "nbformat_minor": 5
}
